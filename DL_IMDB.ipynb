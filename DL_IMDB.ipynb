{
  "nbformat": 4,
  "nbformat_minor": 0,
  "metadata": {
    "colab": {
      "provenance": [],
      "authorship_tag": "ABX9TyMQinCJTbML+xbizw72vz8o",
      "include_colab_link": true
    },
    "kernelspec": {
      "name": "python3",
      "display_name": "Python 3"
    },
    "language_info": {
      "name": "python"
    }
  },
  "cells": [
    {
      "cell_type": "markdown",
      "metadata": {
        "id": "view-in-github",
        "colab_type": "text"
      },
      "source": [
        "<a href=\"https://colab.research.google.com/github/mohammadkaifi/kaifi/blob/master/DL_IMDB.ipynb\" target=\"_parent\"><img src=\"https://colab.research.google.com/assets/colab-badge.svg\" alt=\"Open In Colab\"/></a>"
      ]
    },
    {
      "cell_type": "code",
      "execution_count": 1,
      "metadata": {
        "colab": {
          "base_uri": "https://localhost:8080/"
        },
        "id": "iHpf30H5UJCA",
        "outputId": "dde81b40-5f39-4d7a-ca3f-42f5935864ec"
      },
      "outputs": [
        {
          "output_type": "stream",
          "name": "stdout",
          "text": [
            "Downloading data from https://storage.googleapis.com/tensorflow/tf-keras-datasets/imdb.npz\n",
            "17464789/17464789 [==============================] - 1s 0us/step\n"
          ]
        }
      ],
      "source": [
        "from keras.datasets import imdb\n",
        "(train_data,train_labels),(test_data,test_labels)=imdb.load_data(num_words=10000)"
      ]
    },
    {
      "cell_type": "code",
      "source": [
        "# train_data[0]"
      ],
      "metadata": {
        "id": "X05dst2XiaU0"
      },
      "execution_count": 2,
      "outputs": []
    },
    {
      "cell_type": "code",
      "source": [
        "train_labels[0]"
      ],
      "metadata": {
        "colab": {
          "base_uri": "https://localhost:8080/"
        },
        "id": "UU89iteGicgw",
        "outputId": "60d69743-dc18-463e-c3fd-4eadfc2a9ce6"
      },
      "execution_count": 3,
      "outputs": [
        {
          "output_type": "execute_result",
          "data": {
            "text/plain": [
              "1"
            ]
          },
          "metadata": {},
          "execution_count": 3
        }
      ]
    },
    {
      "cell_type": "code",
      "source": [
        "max([max(sequences) for sequences in train_data])"
      ],
      "metadata": {
        "colab": {
          "base_uri": "https://localhost:8080/"
        },
        "id": "vlyTSDplimlc",
        "outputId": "cf85f93a-f96a-4ef9-874d-c2b4157b4f5e"
      },
      "execution_count": 4,
      "outputs": [
        {
          "output_type": "execute_result",
          "data": {
            "text/plain": [
              "9999"
            ]
          },
          "metadata": {},
          "execution_count": 4
        }
      ]
    },
    {
      "cell_type": "code",
      "source": [
        "word_index=imdb.get_word_index()\n",
        "reverse_word_index=dict(\n",
        "    [(value,key) for (key,value) in word_index.items()])\n",
        "decoded_review = ' '.join([reverse_word_index.get(i-3,'?') for i in train_data[0]])\n"
      ],
      "metadata": {
        "colab": {
          "base_uri": "https://localhost:8080/"
        },
        "id": "uCbKY6-6iwQW",
        "outputId": "2ea34459-cff1-4327-9f56-58033b83a0a6"
      },
      "execution_count": 5,
      "outputs": [
        {
          "output_type": "stream",
          "name": "stdout",
          "text": [
            "Downloading data from https://storage.googleapis.com/tensorflow/tf-keras-datasets/imdb_word_index.json\n",
            "1641221/1641221 [==============================] - 0s 0us/step\n"
          ]
        }
      ]
    },
    {
      "cell_type": "code",
      "source": [
        "# word_index"
      ],
      "metadata": {
        "id": "oZB0UXaAjbFZ"
      },
      "execution_count": 6,
      "outputs": []
    },
    {
      "cell_type": "code",
      "source": [
        "decoded_review"
      ],
      "metadata": {
        "colab": {
          "base_uri": "https://localhost:8080/",
          "height": 123
        },
        "id": "ukL1OZ8QuLK0",
        "outputId": "ad2d4be8-6e75-4b90-c94d-0bc688fd6e1a"
      },
      "execution_count": 7,
      "outputs": [
        {
          "output_type": "execute_result",
          "data": {
            "text/plain": [
              "\"? this film was just brilliant casting location scenery story direction everyone's really suited the part they played and you could just imagine being there robert ? is an amazing actor and now the same being director ? father came from the same scottish island as myself so i loved the fact there was a real connection with this film the witty remarks throughout the film were great it was just brilliant so much that i bought the film as soon as it was released for ? and would recommend it to everyone to watch and the fly fishing was amazing really cried at the end it was so sad and you know what they say if you cry at a film it must have been good and this definitely was also ? to the two little boy's that played the ? of norman and paul they were just brilliant children are often left out of the ? list i think because the stars that play them all grown up are such a big profile for the whole film but these children are amazing and should be praised for what they have done don't you think the whole story was so lovely because it was true and was someone's life after all that was shared with us all\""
            ],
            "application/vnd.google.colaboratory.intrinsic+json": {
              "type": "string"
            }
          },
          "metadata": {},
          "execution_count": 7
        }
      ]
    },
    {
      "cell_type": "code",
      "source": [
        "import numpy as np\n",
        "def vectorize_sequences(sequences,dimensions=10000):\n",
        "  results = np.zeros((len(sequences),dimensions))\n",
        "  for i, sequence in enumerate(sequences):\n",
        "    results[i,sequence]=1\n",
        "  return results\n",
        "\n",
        "x_train=vectorize_sequences(train_data)\n",
        "x_test=vectorize_sequences(test_data)"
      ],
      "metadata": {
        "id": "Zs5C-BhmuNRP"
      },
      "execution_count": 8,
      "outputs": []
    },
    {
      "cell_type": "code",
      "source": [
        "y_train=np.asarray(train_labels).astype('float32')\n",
        "y_test=np.asarray(test_labels).astype('float32')"
      ],
      "metadata": {
        "id": "xpWfUlnxKjEH"
      },
      "execution_count": 12,
      "outputs": []
    },
    {
      "cell_type": "code",
      "source": [
        "from keras import models\n",
        "from keras import layers\n",
        "model=models.Sequential()\n",
        "model.add(layers.Dense(16,activation='relu',input_shape=(10000,)))\n",
        "model.add(layers.Dense(16,activation='relu'))\n",
        "model.add(layers.Dense(1,activation='sigmoid'))"
      ],
      "metadata": {
        "id": "WoYClc2Q2Fxx"
      },
      "execution_count": 9,
      "outputs": []
    },
    {
      "cell_type": "code",
      "source": [
        "model.compile(optimizer='rmsprop',loss='binary_crossentropy',metrics=['accuracy'])"
      ],
      "metadata": {
        "id": "xcBrNLU-IeEO"
      },
      "execution_count": 10,
      "outputs": []
    },
    {
      "cell_type": "code",
      "source": [
        "x_val=x_train[:10000]\n",
        "partial_x_train=x_train[10000:]\n",
        "y_val=y_train[:10000]\n",
        "partial_y_train=y_train[10000:]\n"
      ],
      "metadata": {
        "id": "zX7yKL0bIqZ-"
      },
      "execution_count": 13,
      "outputs": []
    },
    {
      "cell_type": "code",
      "source": [
        "history=model.fit(partial_x_train,partial_y_train,epochs=20,batch_size=512,validation_data=(x_val,y_val))"
      ],
      "metadata": {
        "colab": {
          "base_uri": "https://localhost:8080/"
        },
        "id": "avmdff_NKYDP",
        "outputId": "80467982-6a43-4f93-ff94-7b830b5cac49"
      },
      "execution_count": 14,
      "outputs": [
        {
          "output_type": "stream",
          "name": "stdout",
          "text": [
            "Epoch 1/20\n",
            "30/30 [==============================] - 13s 379ms/step - loss: 0.5483 - accuracy: 0.7769 - val_loss: 0.4280 - val_accuracy: 0.8545\n",
            "Epoch 2/20\n",
            "30/30 [==============================] - 3s 113ms/step - loss: 0.3444 - accuracy: 0.8913 - val_loss: 0.3405 - val_accuracy: 0.8702\n",
            "Epoch 3/20\n",
            "30/30 [==============================] - 3s 86ms/step - loss: 0.2579 - accuracy: 0.9167 - val_loss: 0.2894 - val_accuracy: 0.8897\n",
            "Epoch 4/20\n",
            "30/30 [==============================] - 2s 61ms/step - loss: 0.2094 - accuracy: 0.9302 - val_loss: 0.3038 - val_accuracy: 0.8760\n",
            "Epoch 5/20\n",
            "30/30 [==============================] - 2s 66ms/step - loss: 0.1783 - accuracy: 0.9422 - val_loss: 0.2821 - val_accuracy: 0.8853\n",
            "Epoch 6/20\n",
            "30/30 [==============================] - 3s 92ms/step - loss: 0.1533 - accuracy: 0.9508 - val_loss: 0.3218 - val_accuracy: 0.8752\n",
            "Epoch 7/20\n",
            "30/30 [==============================] - 2s 66ms/step - loss: 0.1317 - accuracy: 0.9600 - val_loss: 0.2886 - val_accuracy: 0.8872\n",
            "Epoch 8/20\n",
            "30/30 [==============================] - 2s 55ms/step - loss: 0.1170 - accuracy: 0.9635 - val_loss: 0.3034 - val_accuracy: 0.8798\n",
            "Epoch 9/20\n",
            "30/30 [==============================] - 1s 50ms/step - loss: 0.1012 - accuracy: 0.9709 - val_loss: 0.3481 - val_accuracy: 0.8705\n",
            "Epoch 10/20\n",
            "30/30 [==============================] - 1s 48ms/step - loss: 0.0920 - accuracy: 0.9730 - val_loss: 0.3268 - val_accuracy: 0.8841\n",
            "Epoch 11/20\n",
            "30/30 [==============================] - 1s 48ms/step - loss: 0.0748 - accuracy: 0.9811 - val_loss: 0.3441 - val_accuracy: 0.8820\n",
            "Epoch 12/20\n",
            "30/30 [==============================] - 1s 48ms/step - loss: 0.0687 - accuracy: 0.9814 - val_loss: 0.3572 - val_accuracy: 0.8795\n",
            "Epoch 13/20\n",
            "30/30 [==============================] - 1s 49ms/step - loss: 0.0588 - accuracy: 0.9853 - val_loss: 0.3839 - val_accuracy: 0.8776\n",
            "Epoch 14/20\n",
            "30/30 [==============================] - 2s 59ms/step - loss: 0.0514 - accuracy: 0.9875 - val_loss: 0.3987 - val_accuracy: 0.8744\n",
            "Epoch 15/20\n",
            "30/30 [==============================] - 2s 71ms/step - loss: 0.0452 - accuracy: 0.9899 - val_loss: 0.4168 - val_accuracy: 0.8751\n",
            "Epoch 16/20\n",
            "30/30 [==============================] - 2s 58ms/step - loss: 0.0371 - accuracy: 0.9932 - val_loss: 0.5016 - val_accuracy: 0.8575\n",
            "Epoch 17/20\n",
            "30/30 [==============================] - 1s 49ms/step - loss: 0.0345 - accuracy: 0.9931 - val_loss: 0.4729 - val_accuracy: 0.8716\n",
            "Epoch 18/20\n",
            "30/30 [==============================] - 1s 49ms/step - loss: 0.0277 - accuracy: 0.9953 - val_loss: 0.4824 - val_accuracy: 0.8720\n",
            "Epoch 19/20\n",
            "30/30 [==============================] - 2s 58ms/step - loss: 0.0228 - accuracy: 0.9970 - val_loss: 0.5025 - val_accuracy: 0.8720\n",
            "Epoch 20/20\n",
            "30/30 [==============================] - 2s 55ms/step - loss: 0.0211 - accuracy: 0.9971 - val_loss: 0.5279 - val_accuracy: 0.8715\n"
          ]
        }
      ]
    },
    {
      "cell_type": "code",
      "source": [
        "history_dict=history.history\n",
        "history_dict.keys()"
      ],
      "metadata": {
        "colab": {
          "base_uri": "https://localhost:8080/"
        },
        "id": "Xf9Ej8wtLEug",
        "outputId": "119281b4-335c-4aae-f3ed-c4133d7ca658"
      },
      "execution_count": 17,
      "outputs": [
        {
          "output_type": "execute_result",
          "data": {
            "text/plain": [
              "dict_keys(['loss', 'accuracy', 'val_loss', 'val_accuracy'])"
            ]
          },
          "metadata": {},
          "execution_count": 17
        }
      ]
    },
    {
      "cell_type": "code",
      "source": [
        "acc=history_dict['accuracy']\n",
        "val_acc=history_dict['val_accuracy']"
      ],
      "metadata": {
        "id": "pDXHFM3gPfkK"
      },
      "execution_count": 25,
      "outputs": []
    },
    {
      "cell_type": "code",
      "source": [
        "import matplotlib.pyplot as plt\n",
        "history_dict=history.history\n",
        "loss_values=history_dict['loss']\n",
        "val_loss_values=history_dict['val_loss']\n",
        "epochs=range(1,len(acc)+1)\n",
        "plt.plot(epochs,loss_values,'bo',label='Training_loss')\n",
        "plt.plot(epochs,val_loss_values,'b',label='Validation loss')\n",
        "plt.title('Training and validation loss')\n",
        "plt.xlabel('Epochs')\n",
        "plt.ylabel('Loss')\n",
        "plt.legend()\n",
        "plt.show()"
      ],
      "metadata": {
        "colab": {
          "base_uri": "https://localhost:8080/",
          "height": 472
        },
        "id": "DGM2yWf8LgHG",
        "outputId": "991e3d50-537b-4eca-c41a-40909086aa4b"
      },
      "execution_count": 26,
      "outputs": [
        {
          "output_type": "display_data",
          "data": {
            "text/plain": [
              "<Figure size 640x480 with 1 Axes>"
            ],
            "image/png": "[encoded data removed]"
          },
          "metadata": {}
        }
      ]
    },
    {
      "cell_type": "code",
      "source": [
        "# plotting the training and validation accuracy\n",
        "plt.clf()\n",
        "acc_values=history_dict['accuracy']\n",
        "val_acc_values=history_dict['val_accuracy']\n",
        "plt.plot(epochs,acc,'bo',label='Training acc')\n",
        "plt.plot(epochs,val_acc,'b',label='Validation acc')\n",
        "plt.title('Training and validation accuracy')\n",
        "plt.xlabel('Epochs')\n",
        "plt.ylabel('Loss')\n",
        "plt.legend()\n",
        "plt.show()"
      ],
      "metadata": {
        "colab": {
          "base_uri": "https://localhost:8080/",
          "height": 472
        },
        "id": "0ZS8uT8KPOZO",
        "outputId": "63a3038d-5693-48c3-83fd-f6d0163e96c5"
      },
      "execution_count": 27,
      "outputs": [
        {
          "output_type": "display_data",
          "data": {
            "text/plain": [
              "<Figure size 640x480 with 1 Axes>"
            ],
            "image/png": "[encoded data removed]"
          },
          "metadata": {}
        }
      ]
    },
    {
      "cell_type": "code",
      "source": [
        "  model=models.Sequential()\n",
        "  model.add(layers.Dense(16,activation='relu',input_shape=(10000,)))\n",
        "  model.add(layers.Dense(16,activation='relu'))\n",
        "  model.add(layers.Dense(1,activation='sigmoid'))\n",
        "  model.compile(optimizer='rmsprop',loss='binary_crossentropy',metrics=['accuracy'])\n",
        "  model.fit(x_train,y_train,epochs=4,batch_size=512)\n",
        "  results=model.evaluate(x_test,y_test)"
      ],
      "metadata": {
        "colab": {
          "base_uri": "https://localhost:8080/"
        },
        "id": "5UIxfmEQSXbt",
        "outputId": "09bce8c3-58fd-4a40-b83b-908581d08dff"
      },
      "execution_count": 28,
      "outputs": [
        {
          "output_type": "stream",
          "name": "stdout",
          "text": [
            "Epoch 1/4\n",
            "49/49 [==============================] - 3s 47ms/step - loss: 0.4630 - accuracy: 0.8092\n",
            "Epoch 2/4\n",
            "49/49 [==============================] - 2s 43ms/step - loss: 0.2731 - accuracy: 0.9058\n",
            "Epoch 3/4\n",
            "49/49 [==============================] - 2s 47ms/step - loss: 0.2144 - accuracy: 0.9215\n",
            "Epoch 4/4\n",
            "49/49 [==============================] - 3s 58ms/step - loss: 0.1813 - accuracy: 0.9349\n",
            "782/782 [==============================] - 3s 4ms/step - loss: 0.2854 - accuracy: 0.8864\n"
          ]
        }
      ]
    },
    {
      "cell_type": "code",
      "source": [
        "model.predict(x_test)"
      ],
      "metadata": {
        "colab": {
          "base_uri": "https://localhost:8080/"
        },
        "id": "xbvfOCvpZNAU",
        "outputId": "08adeff7-f0d4-459b-b20f-8ee35ddcfabf"
      },
      "execution_count": 29,
      "outputs": [
        {
          "output_type": "stream",
          "name": "stdout",
          "text": [
            "782/782 [==============================] - 3s 3ms/step\n"
          ]
        },
        {
          "output_type": "execute_result",
          "data": {
            "text/plain": [
              "array([[0.20066932],\n",
              "       [0.998441  ],\n",
              "       [0.7847595 ],\n",
              "       ...,\n",
              "       [0.08761426],\n",
              "       [0.06825913],\n",
              "       [0.49961117]], dtype=float32)"
            ]
          },
          "metadata": {},
          "execution_count": 29
        }
      ]
    },
    {
      "cell_type": "code",
      "source": [],
      "metadata": {
        "id": "E2Q-2esDZQ6Y"
      },
      "execution_count": null,
      "outputs": []
    }
  ]
}